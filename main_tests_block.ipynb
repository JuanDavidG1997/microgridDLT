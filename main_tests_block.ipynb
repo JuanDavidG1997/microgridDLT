{
 "cells": [
  {
   "cell_type": "markdown",
   "id": "9e5a067f-975c-407d-a2f5-0b5aa2187b54",
   "metadata": {},
   "source": [
    "# IOTA microgrid tests"
   ]
  },
  {
   "cell_type": "code",
   "execution_count": 1,
   "id": "491d242f-eb69-4808-8d30-250004b9d948",
   "metadata": {},
   "outputs": [],
   "source": [
    "from iota import ProposedTransaction, Address, Tag, TryteString, Iota, Transaction\n",
    "from iota.crypto.types import Seed\n",
    "import json\n",
    "import pandapower as pp\n",
    "import numpy as np\n",
    "from numpy.random import rand\n",
    "import pandas as pd\n",
    "import os\n",
    "import pprint\n",
    "from hashlib import sha256\n",
    "import time"
   ]
  },
  {
   "cell_type": "markdown",
   "id": "890e9336-275c-44d3-b748-676f02dbd15d",
   "metadata": {},
   "source": [
    "### General params"
   ]
  },
  {
   "cell_type": "code",
   "execution_count": 2,
   "id": "17b8c4ab-a5d1-4d86-bbf9-c1a88b88bec0",
   "metadata": {},
   "outputs": [],
   "source": [
    "num_household = 6\n",
    "num_agents = 6\n",
    "steps = 5"
   ]
  },
  {
   "cell_type": "code",
   "execution_count": 3,
   "id": "7be1d9db-677b-4635-b769-f67f5eef3731",
   "metadata": {},
   "outputs": [],
   "source": [
    "my_seed = Seed.random()\n",
    "api = Iota('https://nodes.devnet.iota.org:443')\n",
    "total_addresses = steps * (2 * num_agents + 1)\n",
    "addresses = api.get_new_addresses(count=total_addresses)['addresses']"
   ]
  },
  {
   "cell_type": "code",
   "execution_count": 4,
   "id": "0e539060-6c63-4531-9bb8-b4f60c89a389",
   "metadata": {},
   "outputs": [],
   "source": [
    "price_addresses_splits = []\n",
    "money_addresses_splits = []\n",
    "addresses1 = addresses[30:]\n",
    "addresses2 = addresses[:30]\n",
    "for agent in range(0, num_agents):\n",
    "    price_addresses_splits.append(addresses1[agent*steps:agent*steps+steps])\n",
    "    money_addresses_splits.append(addresses2[agent*steps:agent*steps+steps])\n",
    "publish_addresses = addresses1[-steps:]"
   ]
  },
  {
   "cell_type": "code",
   "execution_count": 5,
   "id": "0f87af2c-868e-428a-ab4b-38b7ff6090eb",
   "metadata": {},
   "outputs": [
    {
     "data": {
      "text/plain": [
       "iota.types.Address"
      ]
     },
     "execution_count": 5,
     "metadata": {},
     "output_type": "execute_result"
    }
   ],
   "source": [
    "type(publish_addresses[0])"
   ]
  },
  {
   "cell_type": "code",
   "execution_count": 6,
   "id": "03957125-2e6c-4bac-9e82-8080264adfbf",
   "metadata": {},
   "outputs": [
    {
     "data": {
      "text/plain": [
       "[Address(b'ROFFFUMVVGJ9QRYQTTI9OGNEXCMQFQMIGVVESS9KIROOEKJVQQHHURMRBHTKQD9HNGHJSVXIDYE9HKJWX'),\n",
       " Address(b'NWZKTFZKPYFBEATBOSA9HTWCJXLSZVOGFJVMLYYXEBXEPBTDKDJWHYLUAF9NXUELQPC9YSRL99GC9OGVY'),\n",
       " Address(b'FAGPRXH9ZXFVMHPVLJUOGABJELHDGRYWOF9CXFFWWJMOAITWQBCTZTFEHNGOMNEJJEIBRMAKEIWDFJPOD'),\n",
       " Address(b'9ZDXGXEQROBLXBBRWFRXAIKIPUGJJJPUQLWQJBCLULIYUV9XNHDWWCFMD99FDPPYSBLDD9JPJEGLEDNXW'),\n",
       " Address(b'KBBICXM9CGMCHXZVCVBILTATUJXYLPACJLTA9SCHHXUEBSDHBJHMNPYDVODB9SNRXZNNHJEHITVDKLEFD')]"
      ]
     },
     "execution_count": 6,
     "metadata": {},
     "output_type": "execute_result"
    }
   ],
   "source": [
    "price_addresses_splits\n",
    "money_addresses_splits\n",
    "publish_addresses"
   ]
  },
  {
   "cell_type": "markdown",
   "id": "b3fcf627-8fb9-483b-90f4-b15c841a731a",
   "metadata": {},
   "source": [
    "### Agent class"
   ]
  },
  {
   "cell_type": "code",
   "execution_count": 7,
   "id": "a15209b2-c382-43b3-b880-c270883341f8",
   "metadata": {},
   "outputs": [],
   "source": [
    "class Block:\n",
    "    def __init__(self, index, transactions, timestamp, previous_hash, nonce=0):\n",
    "        self.index = index\n",
    "        self.transactions = transactions\n",
    "        self.timestamp = timestamp\n",
    "        self.previous_hash = previous_hash\n",
    "        self.nonce = nonce\n",
    "\n",
    "    def compute_hash(self):\n",
    "        \"\"\"\n",
    "        A function that return the hash of the block contents.\n",
    "        \"\"\"\n",
    "        block_string = json.dumps(self.__dict__, sort_keys=True)\n",
    "        return sha256(block_string.encode()).hexdigest()\n",
    "\n",
    "\n",
    "class Blockchain:\n",
    "    # difficulty of our PoW algorithm\n",
    "    difficulty = 2\n",
    "\n",
    "    def __init__(self):\n",
    "        self.unconfirmed_transactions = []\n",
    "        self.chain = []\n",
    "\n",
    "    def create_genesis_block(self):\n",
    "        \"\"\"\n",
    "        A function to generate genesis block and appends it to\n",
    "        the chain. The block has index 0, previous_hash as 0, and\n",
    "        a valid hash.\n",
    "        \"\"\"\n",
    "        genesis_block = Block(0, [], 0, \"0\")\n",
    "        genesis_block.hash = genesis_block.compute_hash()\n",
    "        self.chain.append(genesis_block)\n",
    "\n",
    "    @property\n",
    "    def last_block(self):\n",
    "        return self.chain[-1]\n",
    "\n",
    "    def add_block(self, block, proof):\n",
    "        \"\"\"\n",
    "        A function that adds the block to the chain after verification.\n",
    "        Verification includes:\n",
    "        * Checking if the proof is valid.\n",
    "        * The previous_hash referred in the block and the hash of latest block\n",
    "          in the chain match.\n",
    "        \"\"\"\n",
    "        previous_hash = self.last_block.hash\n",
    "\n",
    "        if previous_hash != block.previous_hash:\n",
    "            return False\n",
    "\n",
    "        if not Blockchain.is_valid_proof(block, proof):\n",
    "            return False\n",
    "\n",
    "        block.hash = proof\n",
    "        self.chain.append(block)\n",
    "        return True\n",
    "\n",
    "    @staticmethod\n",
    "    def proof_of_work(block):\n",
    "        \"\"\"\n",
    "        Function that tries different values of nonce to get a hash\n",
    "        that satisfies our difficulty criteria.\n",
    "        \"\"\"\n",
    "        block.nonce = 0\n",
    "\n",
    "        computed_hash = block.compute_hash()\n",
    "        while not computed_hash.startswith('0' * Blockchain.difficulty):\n",
    "            block.nonce += 1\n",
    "            computed_hash = block.compute_hash()\n",
    "\n",
    "        return computed_hash\n",
    "\n",
    "    def add_new_transaction(self, transaction):\n",
    "        self.unconfirmed_transactions.append(transaction)\n",
    "\n",
    "    @classmethod\n",
    "    def is_valid_proof(cls, block, block_hash):\n",
    "        \"\"\"\n",
    "        Check if block_hash is valid hash of block and satisfies\n",
    "        the difficulty criteria.\n",
    "        \"\"\"\n",
    "        return (block_hash.startswith('0' * Blockchain.difficulty) and\n",
    "                block_hash == block.compute_hash())\n",
    "\n",
    "    @classmethod\n",
    "    def check_chain_validity(cls, chain):\n",
    "        result = True\n",
    "        previous_hash = \"0\"\n",
    "\n",
    "        for block in chain:\n",
    "            block_hash = block.hash\n",
    "            # remove the hash field to recompute the hash again\n",
    "            # using `compute_hash` method.\n",
    "            delattr(block, \"hash\")\n",
    "\n",
    "            if not cls.is_valid_proof(block, block_hash) or \\\n",
    "                    previous_hash != block.previous_hash:\n",
    "                result = False\n",
    "                break\n",
    "\n",
    "            block.hash, previous_hash = block_hash, block_hash\n",
    "\n",
    "        return result\n",
    "\n",
    "    def mine(self):\n",
    "        \"\"\"\n",
    "        This function serves as an interface to add the pending\n",
    "        transactions to the blockchain by adding them to the block\n",
    "        and figuring out Proof Of Work.\n",
    "        \"\"\"\n",
    "        if not self.unconfirmed_transactions:\n",
    "            return False\n",
    "\n",
    "        last_block = self.last_block\n",
    "\n",
    "        new_block = Block(index=last_block.index + 1,\n",
    "                          transactions=self.unconfirmed_transactions,\n",
    "                          timestamp=time.time(),\n",
    "                          previous_hash=last_block.hash)\n",
    "\n",
    "        proof = self.proof_of_work(new_block)\n",
    "        self.add_block(new_block, proof)\n",
    "\n",
    "        self.unconfirmed_transactions = []\n",
    "\n",
    "        return True\n",
    "\n",
    "\n",
    "class Wrapper:\n",
    "    def __init__(self):\n",
    "        self.blockchain = Blockchain()\n",
    "        self.blockchain.create_genesis_block()\n",
    "        self.peers = []\n",
    "\n",
    "    def new_transaction(self, tx_data):\n",
    "        required_fields = ['author', 'content']\n",
    "        \n",
    "        for field in required_fields:\n",
    "            if not tx_data.get(field):\n",
    "                return \"Invalid transaction data\"\n",
    "        tx_data['timestamp'] = time.time()\n",
    "        self.blockchain.add_new_transaction(tx_data)\n",
    "        \n",
    "        return 'Success'\n",
    "    \n",
    "    def get_chain(self):\n",
    "        chain_data = []\n",
    "        for block in self.blockchain.chain:\n",
    "            chain_data.append(block.__dict__)\n",
    "            return json.dumps({\"length\": len(chain_data), \"chain\": chain_data, \"peers\": list(self.peers)})\n",
    "    \n",
    "    def mine_unconfirmed_transactions(self):\n",
    "        result = self.blockchain.mine()\n",
    "        if not result:\n",
    "            return \"No transactions to mine\"\n",
    "        else:\n",
    "            # Making sure we have the longest chain before announcing to the network\n",
    "            chain_length = len(self.blockchain.chain)\n",
    "            \n",
    "            peers = []\n",
    "            for peer in self.peers:\n",
    "                new_peer = {'address': peer['address'], 'chain': self.blockchain.chain}\n",
    "                peers.append(new_peer)\n",
    "            self.peers = peers\n",
    "                \n",
    "            self.consensus()\n",
    "            \n",
    "            return \"Block #{} is mined.\".format(self.blockchain.last_block.index)\n",
    "\n",
    "    def register_new_peers(self, node_address):\n",
    "        if not node_address:\n",
    "            return \"Invalid data\"\n",
    "        \n",
    "        peer = {'address': node_address, 'chain': None}\n",
    "\n",
    "        # Add the node to the peer list\n",
    "        self.peers.append(peer)\n",
    "\n",
    "        # Return the consensus blockchain to the newly registered node\n",
    "        # so that he can sync\n",
    "        return self.get_chain()\n",
    "\n",
    "#    def register_with_existing_node(self):\n",
    "#        node_address = request.get_json()[\"node_address\"]\n",
    "#        if not node_address:\n",
    "#            return \"Invalid data\", 400\n",
    "#\n",
    "#        data = {\"node_address\": request.host_url}\n",
    "#        headers = {'Content-Type': \"application/json\"}\n",
    "#\n",
    "#        # Make a request to register with remote node and obtain information\n",
    "#        response = requests.post(node_address + \"/register_node\",\n",
    "#                                 data=json.dumps(data), headers=headers)\n",
    "\n",
    "#        if response.status_code == 200:\n",
    "#            global blockchain\n",
    "#            global peers\n",
    "#            # update chain and the peers\n",
    "#            chain_dump = response.json()['chain']\n",
    "#            blockchain = create_chain_from_dump(chain_dump)\n",
    "#            peers.update(response.json()['peers'])\n",
    "#            return \"Registration successful\", 200\n",
    "#        else:\n",
    "#            # if something goes wrong, pass it on to the API response\n",
    "#            return response.content, response.status_code\n",
    "        \n",
    "    def create_chain_from_dump(self, chain_dump):\n",
    "        generated_blockchain = Blockchain()\n",
    "        generated_blockchain.create_genesis_block()\n",
    "        for idx, block_data in enumerate(chain_dump):\n",
    "            if idx == 0:\n",
    "                continue  # skip genesis block\n",
    "            block = Block(block_data[\"index\"],\n",
    "                          block_data[\"transactions\"],\n",
    "                          block_data[\"timestamp\"],\n",
    "                          block_data[\"previous_hash\"],\n",
    "                          block_data[\"nonce\"])\n",
    "            proof = block_data['hash']\n",
    "            added = generated_blockchain.add_block(block, proof)\n",
    "            if not added:\n",
    "                raise Exception(\"The chain dump is tampered!!\")\n",
    "        return generated_blockchain\n",
    "\n",
    "    def verify_and_add_block(self, block_data):\n",
    "        block = Block(block_data[\"index\"],\n",
    "                      block_data[\"transactions\"],\n",
    "                      block_data[\"timestamp\"],\n",
    "                      block_data[\"previous_hash\"],\n",
    "                      block_data[\"nonce\"])\n",
    "\n",
    "        proof = block_data['hash']\n",
    "        added = self.blockchain.add_block(block, proof)\n",
    "\n",
    "        if not added:\n",
    "            return \"The block was discarded by the node\", 400\n",
    "\n",
    "        return \"Block added to the chain\", 201\n",
    "\n",
    "\n",
    "    def create_chain_from_dump(self, chain_dump):\n",
    "        generated_blockchain = Blockchain()\n",
    "        generated_blockchain.create_genesis_block()\n",
    "        for idx, block_data in enumerate(chain_dump):\n",
    "            if idx == 0:\n",
    "                continue  # skip genesis block\n",
    "            block = Block(block_data[\"index\"],\n",
    "                          block_data[\"transactions\"],\n",
    "                          block_data[\"timestamp\"],\n",
    "                          block_data[\"previous_hash\"],\n",
    "                          block_data[\"nonce\"])\n",
    "            proof = block_data['hash']\n",
    "            added = generated_blockchain.add_block(block, proof)\n",
    "            if not added:\n",
    "                raise Exception(\"The chain dump is tampered!!\")\n",
    "        return generated_blockchain\n",
    "\n",
    "    def get_pending_tx(self):\n",
    "        return json.dumps(self.blockchain.unconfirmed_transactions)\n",
    "\n",
    "\n",
    "    def consensus(self):\n",
    "        \"\"\"\n",
    "        Our naive consnsus algorithm. If a longer valid chain is\n",
    "        found, our chain is replaced with it.\n",
    "        \"\"\"\n",
    "        longest_chain = None\n",
    "        current_len = len(self.blockchain.chain)\n",
    "\n",
    "        for node in self.peers:\n",
    "            length = len(node['chain'])\n",
    "            chain = node['chain']\n",
    "            if length > current_len and self.blockchain.check_chain_validity(chain):\n",
    "                current_len = length\n",
    "                longest_chain = chain\n",
    "\n",
    "        if longest_chain:\n",
    "            blockchain = longest_chain\n",
    "            return True\n",
    "\n",
    "        return False\n",
    "\n",
    "#    def announce_new_block(self, block):\n",
    "#        \"\"\"\n",
    "#        A function to announce to the network once a block has been mined.\n",
    "#        Other blocks can simply verify the proof of work and add it to their\n",
    "#        respective chains.\n",
    "#        \"\"\"\n",
    "#        for peer in peers:\n",
    "#            url = \"{}add_block\".format(peer)\n",
    "#            headers = {'Content-Type': \"application/json\"}\n",
    "#            requests.post(url,\n",
    "#                          data=json.dumps(block.__dict__, sort_keys=True),\n",
    "#                          headers=headers)"
   ]
  },
  {
   "cell_type": "markdown",
   "id": "d7356cbd-a455-4370-839b-8fdb9b0e72f5",
   "metadata": {},
   "source": [
    "### Loads, generations and prices"
   ]
  },
  {
   "cell_type": "code",
   "execution_count": 8,
   "id": "e3339a1e-dda8-42ce-a172-fca7075a8783",
   "metadata": {},
   "outputs": [],
   "source": [
    "load_base = [5,6,8,7,4]\n",
    "loads = []\n",
    "for i in range(num_agents):\n",
    "    rand_list = load_base + rand(5)\n",
    "    loads.append(rand_list)\n",
    "total_load = sum(loads)"
   ]
  },
  {
   "cell_type": "code",
   "execution_count": 10,
   "id": "2d14e746-1967-4372-b539-8800e2e4c445",
   "metadata": {},
   "outputs": [],
   "source": [
    "gens = [i+4/4 for i in total_load]\n",
    "gens = [gens, [0, 0, 0, 0, 0], [0, 0, 0, 0, 0], gens, gens, gens]"
   ]
  },
  {
   "cell_type": "code",
   "execution_count": 9,
   "id": "1ca0b428-8984-4732-ad74-b63358fcc020",
   "metadata": {},
   "outputs": [],
   "source": [
    "prices = [[1.5, 1.5, 1.7, 1.5, 1.5],\n",
    "          [0,0,0,0,0],\n",
    "          [0,0,0,0,0],\n",
    "          [1.2, 1.1, 1.2, 1.6, 1.6],\n",
    "          [1.5, 1.5, 1.7, 1.5, 1.5],\n",
    "          [1.5, 1.5, 1.7, 1.5, 1.5],\n",
    "          [1.5, 1.4, 1.3, 1.2, 1.1]]"
   ]
  },
  {
   "cell_type": "markdown",
   "id": "475f6339-11f7-45aa-a13c-e847f453f490",
   "metadata": {},
   "source": [
    "### Agent creation"
   ]
  },
  {
   "cell_type": "code",
   "execution_count": 10,
   "id": "fbce43bb-2250-4611-988e-bc783ccc0c1e",
   "metadata": {},
   "outputs": [],
   "source": [
    "def build_address_dictionary(agents, publish_addresses):\n",
    "    agent_addresses = {}\n",
    "    agent_addresses['publish_address'] = publish_addresses\n",
    "    for index, agent in enumerate(agents):\n",
    "        agent_addresses[index] = {'price_address': agent.get_price_address(),\n",
    "                                  'money_address': agent.get_money_address()}\n",
    "    return agent_addresses"
   ]
  },
  {
   "cell_type": "code",
   "execution_count": 11,
   "id": "0c5f7e60-8876-41d9-a438-34097e71b2d9",
   "metadata": {},
   "outputs": [],
   "source": [
    "agents = [Agent(loads[0], gens[0], 0, publish_addresses, price_addresses_splits[0], money_addresses_splits[0], prices[0]),\n",
    "          Agent(loads[1], gens[1], 1, publish_addresses, price_addresses_splits[1], money_addresses_splits[1], prices[1]),\n",
    "          Agent(loads[2], gens[2], 2, publish_addresses, price_addresses_splits[2], money_addresses_splits[2], prices[2]),\n",
    "          Agent(loads[3], gens[3], 3, publish_addresses, price_addresses_splits[3], money_addresses_splits[3], prices[3]),\n",
    "          Agent(loads[4], gens[4], 4, publish_addresses, price_addresses_splits[4], money_addresses_splits[4], prices[4]),\n",
    "          Agent(loads[5], gens[5], 5, publish_addresses, price_addresses_splits[5], money_addresses_splits[5], prices[5])]"
   ]
  },
  {
   "cell_type": "code",
   "execution_count": 12,
   "id": "66dc41d4-74ef-4243-a8fd-d66d06407da9",
   "metadata": {},
   "outputs": [
    {
     "data": {
      "text/plain": [
       "{'publish_address': [Address(b'FIIHLRPXJYHONNIDK9EEXOJBCZCDHPWFHRWMXKOPWEHUXSSYGFTOMLHRMPZY9Z9DJ99UVUIKKUZHFLUBX'),\n",
       "  Address(b'GHEHLRMURNJKRGNRJMHTVTREJSHBZTXCPRVBGWPLDTJXTPUIEKQUZAZ9UBHGFVUTNZNSGOEENCJELAZGZ'),\n",
       "  Address(b'REJCXVQHOYVWQJUDPEDFKWIHNYEIUHGPJOVILUXITLKUHCHOQVRGZARODMCBFVGKORHSIBXQGLLCDGL9X'),\n",
       "  Address(b'PVORFPHCLBAGSIPQMTQBAAHPIR9YFMJQDTJIUDPERJQMF9CDMMSETHVYFZMZVFMVFSXSXCVCYKXYDMJEW'),\n",
       "  Address(b'ZLZVHBOYTUXEVSKQSUXNHZKCZMEZRKKTIHAEJVKTHES9QTXVFBLDBJUBSIQCDVHFELZAXMXJHIBEHBOAW')],\n",
       " 0: {'price_address': [Address(b'MHINXEFKQXASMVSYSMBCVDXFGTIOKXMJTYXTFFEGQZDZWXVALDCUJGIZLH9RXRPSUORMW9CZP99OWRTZW'),\n",
       "   Address(b'JUBQLQHWTSVBK9UYUDUSWJIVBRSLCHVUABELTUSWWFRDI9HWDVJDCBWYNRKJJPYFFQQ9VURTMPGZVYL9B'),\n",
       "   Address(b'LDDGORPQBHPJHKKZFFVUGTMPSFRDOJNUYCTLWMBTFRTXUZLQOQ9NUFAJBAIHRNQSYMTPERXPHSQBMVPCC'),\n",
       "   Address(b'9ISHUXHLWKOPTKDJVXPUBUX9XOBA9HRIOXNBSC99NZDEKOYETTRUZWJMDOATYALNUXRIWPUWN99ODBEGX'),\n",
       "   Address(b'TD9NZUKZOSVWTSZBCECDORCKUKDAOCOICMAMMLYKQQLHBRIB9YJTHHADVJKWV9QQNDZBLFHW9DMBNHW9X')],\n",
       "  'money_address': [Address(b'ZHBZRDCSWKDLZGCLCISTTFTZTDTSFLFCDCEXIQZF9JIWKGKRTVHMXDFJZOEFQQTCFZBLQZKUMEPDUVSAD'),\n",
       "   Address(b'CSSRMLLRCRYSTJATOPUSEUVDXKZMJULCAAYHXJEPUFNDBTFUAITDZRKUXY9VFVVLTFWRMXRMQSQCFJOCD'),\n",
       "   Address(b'VVR9SAPDTCQWMITRLNKSSXEUSOUDXMLMDAVMOLJ9DOXVGBZQREQ9MRPEYDZZSMTJDOAJ9KUCICOCSAPJW'),\n",
       "   Address(b'LZIGLTKTUKXHMYFLYFLVSNUAMYXJERNYCJJISWQOIOINLUICBQA9PIHZCJLKE9SQHZXMUQHTQZIC9FDUA'),\n",
       "   Address(b'UCKHUQLMXAFRHH9HJXXDPLXYYJFBKDOKNFNOBWLUASZNTZZZEWMUUDYSBAMC9LXYDAAUSG9TAYQDYHQFW')]},\n",
       " 1: {'price_address': [Address(b'IQJ9LOOD9DPWOEFGRBYBEFDQDPVGFLKUUJGVVUEVUPWULXQWOJRAARXZXLQOITEKIHSRHWOULAPGEQQ99'),\n",
       "   Address(b'URHIEOMWDTF9J9XLUSBMJUKVDPCQICLLMWAALNKKRLFRBFRBET9UCLUIAO9MBWXU9BXDUIDSDRRLGISXD'),\n",
       "   Address(b'GTMBFCACPXLYWOYJM9HCOOOWXCOQIFQWFRFLJCHGWTWMHVQDMNPPWBZGRHVXKUIFVZPRGICKTIBB9NHID'),\n",
       "   Address(b'PYDLIBFJUSRPOVDHERXNUWC9XWJXSCPUR9OVTGEOEBQQDRVNTBOAHAJWGLPLDYWWAA9WCRVLOKLYFVAGB'),\n",
       "   Address(b'VTOVJKHV9DVQPJQYFLOPAOYRIADNDBRXLVWZQKPOZZOMKMEXWDSHGBBQHLDUWLVIQCLDEGFF9LW9WRLVY')],\n",
       "  'money_address': [Address(b'SUAYECYABGRTWMHMDPEMFKOHFVPQGJTBCVCTZFIFJZWHNF9XCGPZGYDDEZPIUWJKYUKGEYFZEIXTLPDHW'),\n",
       "   Address(b'DXTNTBNQGWXLXU9TPVWQTRQKYDNKMPTBAAFNRUYMSNOPGBUD9TPBWYBUYTJWJXZVBTJCLAXJQMWJGIAYD'),\n",
       "   Address(b'SL9OZLOJEPVATPOEZWNBQMUFQOZGPZQZDDCK9WHVDIICDWRTBOBNUEHOYWMORQFOMOQBQAQMU9LZSLGJX'),\n",
       "   Address(b'YSFYTCYKRBJMBGGJDM9SKLDZGZCAFBBOONXVOKSKZSKEEGNHDNKHWDBIVCFNVOARMSPFQDDQSUCJLDJRX'),\n",
       "   Address(b'TKR9NLIRALIEAQWNFIXPWLZLUQWCE9IDUECYAZGXVSJVFIIUCLDEK9LHJNAEINSNAZRQCRJTWXZ9PXNJA')]},\n",
       " 2: {'price_address': [Address(b'NUGF9CWMNGZPTYQNAK9NPEDTOCTQUYVZMOPAMREEKLRKM9WWSQTEAEAIFI9IVNBSUYGFZHSCWXZXJAESX'),\n",
       "   Address(b'IWNKFXEPEARZRXFNHNBBQOYVWDBQPVQIVWYBXORAXLIQ9J9DYGR9ZIPUJJFYHZHNUGJADLNRVQWPUTKPX'),\n",
       "   Address(b'SCYZRRKDPSRWXZUPGGCFSYAJZMQVLIDIUSQRFESQKYZZZPZJNVXQMPHBAZDPBQOQVRMUDBECEEKTVAOFW'),\n",
       "   Address(b'YIGGZXSLLNUSHUBXINBSPBXZBHFCTCPLTEEYDWFNQWVTNVFTVSWKXLGYXFSPIDTBNVOXVPYVIO9EANOLW'),\n",
       "   Address(b'GNOIFARNIVF99LHCTDIYYWLAIBPBMSUERMGAWNOINILIXAR9XEXLJSJD99MZVQ9ILODDWKNMFG9LKWJ99')],\n",
       "  'money_address': [Address(b'EOLHBNMKIBEOBVF9BTQQRUAQEVZNTMODOLQITJDPTD9XDLOWDCAHTCXHMWEGMVQOUC9RYBBBKFQKYHXYW'),\n",
       "   Address(b'AHUWYMRZSKK9EYQBVDLYMMFSNEUU9TPHTUJLRPWOCQZOFGPPJFOVPJCMTURZNDUOJ9WFNYWMTVNWN9ZOW'),\n",
       "   Address(b'JYXLZURPLDZGQFHKQVWQVZBGSJVNSBBNXINHNIXVPR9GDMMJNHGEU9OIAPPIS9ZAUKDTDGSCMMI9EVEQX'),\n",
       "   Address(b'AHDSZUWK9LKUGEDMEWZFQRSAGBWALJSFZCGTUKACLEEMLLHNUZIHBSUTUPCRDFPTXKUFRDLVMBDJKFIGC'),\n",
       "   Address(b'QUCHHZQBXGDSUYAYCMGVREDEKWOFLXVXSURS9OPCRFCTFIIHQPKPHOWUSCQFSUWZUQRLXBRTWXAMPAWYX')]},\n",
       " 3: {'price_address': [Address(b'JCDVLQSRZNJYQQ99YR9VEMJNMYBIVWTPJTVUB9PHQZHGLQIMCZYPNMFXUWBACHNOLS9TEITZSZRP9TVPD'),\n",
       "   Address(b'UURJZDHRMPPTMTVBFCO9AYYIPEPEPBFEOPZCGDPYFVXBCHTCUHUOQGBVXKUMRZZEJUYVEIDRQZYUSKGSX'),\n",
       "   Address(b'LPBCVGRFMIYCQ9LDPDS9PJLHQIMPWXBNNWWVGBANNQVLQDVSJI9ARTOGZSFTMCQOQTMCHHPZ9FSPJYNNW'),\n",
       "   Address(b'FRWQGCPCQLJQHFVTXARICWYLWZJVM9C9GRADSPONFFESTKZNRDG9ZMBQWKVTAJJHZMMW9KKWSCTPHKTHA'),\n",
       "   Address(b'TIEEAZPAQRLPGXADMNQXBGDZXNMX9IACUSAVGAPCLBDY9ZXIAYNNDLDTUATKHHFKIBERUVUFPCEH9UCBA')],\n",
       "  'money_address': [Address(b'YLWIFPBOHAXQAWYAXYSKDNWWNKNOPSWALDBJIIBJURWBAVSCEALBNLQP9IUNMGXREODQVIDAZZTJFKIUW'),\n",
       "   Address(b'BJRWJHCFYMDKFURVEEMACDXLRUWEXDGHJHWVEESWIFNWZFSLXCG9SWDNQDLZKPJQOBYXWYJDYFQLXGGIW'),\n",
       "   Address(b'PYABGOSQHHYZKGZUYEAMXOHZQRJPRFQSVRHVPJXXQVLL99YVIHTLTZNLNXFVXZHZR99WTNAKGSOX9EHRW'),\n",
       "   Address(b'JVMLHSHDCPDYQZQZNIXXPT9CWHHOLSLTUABOSBPOIUDGJJYLOLLVINIWXA9LBGMSTEFNHSUN9FUFIPLE9'),\n",
       "   Address(b'KCHSMMRWU9EHGYFVLSFGTQLNOPYIXZEH9XQHNAGSCIDFYIABVMQSEUUFZXCRMVBEYCCQFQLMJXOTRKUQZ')]},\n",
       " 4: {'price_address': [Address(b'JSQQFRMNFX9VCIYMWUFUGZNKBWVMROMTZXPSRKIWMWRBQIHAVRKHRZMO9TEEWWQEENAQYQQDLTFSGGJKC'),\n",
       "   Address(b'EMLVOPHOBCPVFNZWKGXSDVTFTNTNRTRUFPGUMEFSHKVPYBHNUZY9WZXCWECOQIJGBGSSWAV9BHOKEGFB9'),\n",
       "   Address(b'PPAPYBNUAHLLXDORKQGGGSVDAUBYHRHKWO9CDQVTYPWZQDENSLDKXPFPCVTFWHKGBNEWANJILZYRHJ9UY'),\n",
       "   Address(b'GVXZWLC9V9QYHSEJLYSINHNDNWWC9NFWJAOGXOHYUWAWTIYQEYUCZANAPKIWJYLAXDBZGMZUZVIDYQAQW'),\n",
       "   Address(b'LHPR9DQKDFVDHLCAULWAELNUYFMQ9RHAVZDTVCKHG9A99SSNLSDDHEBC9LCORBUGK9KGPHYGBJRCQNH9X')],\n",
       "  'money_address': [Address(b'NVIFMSGOLVILJLTOBAVJLENUOEICIBZHIBFVLFCISEVWTBNLLPWU99OGLULFJYUSXCWKBEZBXBC9AXZNZ'),\n",
       "   Address(b'DVRFKKNITMGCFMMQGOVOBVFYOQMNHRWLGZW9WXIGB9ATUESRUZQGOUIBDOZXLYZZUTM9ZXGNQWWAVLZBX'),\n",
       "   Address(b'WQKIMSVSMRIZSMZA9DVZNRLLNVMZKADLDLSFLYLFVZ9EPABLVBHZKRQYNROESOFMHTYSRNAJCNFDVXXYY'),\n",
       "   Address(b'DMFFSFCOLHJTHOSZWWNUZFMI9INXHOTRPWGLAQSWZLCXJ9QDNEHHYDX9SS9H9VFMWHHHNPIWNIIVDXQNX'),\n",
       "   Address(b'AACNYXBQWYYQWPARWZDBMLHYINWUEQDXHTJOCOMYDXWLABCDRFSYWHNOVBHBYVLMRN9QT9LZVEJIEVXKW')]},\n",
       " 5: {'price_address': [Address(b'XVJWOGXPS9RMVO9HXDKLIHMHAY9WTVBXABMGDIPDRXACWFNTJLNIMBWHGTUPEOHEHCGGRXNZ9TDCK9CHC'),\n",
       "   Address(b'KPWCZQAYUSXPSQTBBPSRCC9VSOBWZVADDNRJMKXUTMQMLLDDLYMFKOQBSP9MNPTFRWHZE9IFLVKCGBVGD'),\n",
       "   Address(b'J9FKQGGGBFMJBNTGYVCJMZHOTUGUEDCKUACWPNA9XUVRPXDMJHCPGDUDOAKHW9QPNWDPGBKGZQDOKDJJW'),\n",
       "   Address(b'VJLXR9ZDYOGIOHAOHFQZTSWYGQLTSFVHORDLLKLZVPDZSRVTWQRERQZHRDOTU9ETCEHSUCTYSMVZORU9A'),\n",
       "   Address(b'Y9POLXKKZQDHGSFDJYIZYWVTDPQBVHA9MNAGAKTXGN9IXNDBIFPZIJAOZGCINNZYCTPBRNDHCAH9OKUTC')],\n",
       "  'money_address': [Address(b'XQELQZKAIPEAGMNCWWRYAUWETWCBOZIJWFGPCPJVPRCR9DNACQP9BJJLCYEHEJEZTEHRPXCKOKSRHAGQW'),\n",
       "   Address(b'DIKPKNVWPKGASGUWKMIHK9ZKMPNKELVNKCEKVRLVHTCSYVCMLIKCQEHZTBNUNRUI9GLHWZEQZVOU9OEJW'),\n",
       "   Address(b'YTLVTOL9DJHSPVMNQH9AJGFBQNWPIH9JUSDAUCZKK9HPJFLVFLSYC9BLDHWJTYNYGABBCNPNB9SQCTIKA'),\n",
       "   Address(b'ECZQDQEFLWSGKKIZXVFEXIOWAUWYFHHIQOSJBOOHYNIMUXUMEXHRJMZZCXAZVCCEZEHUYTSPYIXSZCFI9'),\n",
       "   Address(b'YIJIZCVKQFKGDDAGHTHHGHJUITCPDAWSCVIWXDGABNAEWAGYHAHQKBOQBLLRQQCBYKYFZKLTHIBHG9OGD')]}}"
      ]
     },
     "execution_count": 12,
     "metadata": {},
     "output_type": "execute_result"
    }
   ],
   "source": [
    "addresses_dict = build_address_dictionary(agents, publish_addresses)\n",
    "addresses_dict"
   ]
  },
  {
   "cell_type": "code",
   "execution_count": 13,
   "id": "08892ca6-8eda-402e-8eb0-768744a57394",
   "metadata": {},
   "outputs": [],
   "source": [
    "for agent in agents:\n",
    "    agent.assign_address_dict(addresses_dict)"
   ]
  },
  {
   "cell_type": "code",
   "execution_count": 14,
   "id": "f0a21801-312b-484c-a74e-5a69b10a3bbc",
   "metadata": {},
   "outputs": [
    {
     "name": "stdout",
     "output_type": "stream",
     "text": [
      "[Address(b'IQJ9LOOD9DPWOEFGRBYBEFDQDPVGFLKUUJGVVUEVUPWULXQWOJRAARXZXLQOITEKIHSRHWOULAPGEQQ99'), Address(b'URHIEOMWDTF9J9XLUSBMJUKVDPCQICLLMWAALNKKRLFRBFRBET9UCLUIAO9MBWXU9BXDUIDSDRRLGISXD'), Address(b'GTMBFCACPXLYWOYJM9HCOOOWXCOQIFQWFRFLJCHGWTWMHVQDMNPPWBZGRHVXKUIFVZPRGICKTIBB9NHID'), Address(b'PYDLIBFJUSRPOVDHERXNUWC9XWJXSCPUR9OVTGEOEBQQDRVNTBOAHAJWGLPLDYWWAA9WCRVLOKLYFVAGB'), Address(b'VTOVJKHV9DVQPJQYFLOPAOYRIADNDBRXLVWZQKPOZZOMKMEXWDSHGBBQHLDUWLVIQCLDEGFF9LW9WRLVY')]\n"
     ]
    }
   ],
   "source": [
    "print(agents[1].get_price_address())"
   ]
  },
  {
   "cell_type": "markdown",
   "id": "a19a46e6-54e5-4e3e-b81d-7fd6d94d0c59",
   "metadata": {},
   "source": [
    "Each agent publishes the necessary info to the main address"
   ]
  },
  {
   "cell_type": "code",
   "execution_count": 15,
   "id": "a2a558ac-6d39-4568-9f05-24bc3f01c9d4",
   "metadata": {},
   "outputs": [],
   "source": [
    "for index, agent in enumerate(agents):\n",
    "    agent.publish_energy_info(0)"
   ]
  },
  {
   "cell_type": "markdown",
   "id": "8cb25de2-7529-4d5d-b230-79b843d13cad",
   "metadata": {},
   "source": [
    "Retrieve the published information"
   ]
  },
  {
   "cell_type": "code",
   "execution_count": 16,
   "id": "fef78476-0d70-4d2f-b0f4-e63629c4c575",
   "metadata": {},
   "outputs": [],
   "source": [
    "def check_published_data(address):\n",
    "    transactions = api.find_transactions(addresses=[address,])\n",
    "\n",
    "    hashes = []\n",
    "    for txhash in transactions['hashes']:\n",
    "        hashes.append(txhash)\n",
    "        \n",
    "    trytes = api.get_trytes(hashes)['trytes']\n",
    "\n",
    "    parts = []\n",
    "    for trytestring in trytes:\n",
    "        tx = Transaction.from_tryte_string(trytestring)\n",
    "        parts.append((tx.current_index, tx.signature_message_fragment))\n",
    "\n",
    "    parts.sort(key=lambda x: x[0])\n",
    "\n",
    "    full_message = TryteString.from_unicode('')\n",
    "\n",
    "    node_data = []\n",
    "    for index, part in parts:\n",
    "#         pprint.pprint(json.loads(part.decode(errors='ignore')))8.299+8.299+8.299+8.154\n",
    "        node_data.append(json.loads(part.decode(errors='ignore')))\n",
    "\n",
    "    return node_data"
   ]
  },
  {
   "cell_type": "code",
   "execution_count": 17,
   "id": "e473214d-ec19-402d-9789-30c9302d01c7",
   "metadata": {},
   "outputs": [
    {
     "data": {
      "text/plain": [
       "[{'node': 5,\n",
       "  'demand': 5.431409908230468,\n",
       "  'supply': 34.459134033585386,\n",
       "  'consumption': -29.02772412535492,\n",
       "  'price': 1.5},\n",
       " {'node': 0,\n",
       "  'demand': 5.585266518288668,\n",
       "  'supply': 34.459134033585386,\n",
       "  'consumption': -28.873867515296716,\n",
       "  'price': 1.5},\n",
       " {'node': 1,\n",
       "  'demand': 5.336467588910152,\n",
       "  'supply': 0,\n",
       "  'consumption': 5.336467588910152,\n",
       "  'price': 0},\n",
       " {'node': 2,\n",
       "  'demand': 5.451319419347989,\n",
       "  'supply': 0,\n",
       "  'consumption': 5.451319419347989,\n",
       "  'price': 0},\n",
       " {'node': 3,\n",
       "  'demand': 5.661050700564067,\n",
       "  'supply': 34.459134033585386,\n",
       "  'consumption': -28.798083333021317,\n",
       "  'price': 1.2},\n",
       " {'node': 4,\n",
       "  'demand': 5.993619898244042,\n",
       "  'supply': 34.459134033585386,\n",
       "  'consumption': -28.465514135341344,\n",
       "  'price': 1.5}]"
      ]
     },
     "execution_count": 17,
     "metadata": {},
     "output_type": "execute_result"
    }
   ],
   "source": [
    "node_data = check_published_data(publish_addresses[0])\n",
    "node_data"
   ]
  },
  {
   "cell_type": "code",
   "execution_count": 18,
   "id": "4b29ef75-24e8-427d-8909-8cb99252fc82",
   "metadata": {},
   "outputs": [],
   "source": [
    "def single_sided_auction(node_data):\n",
    "    node_vec = []\n",
    "    supply_vec = []\n",
    "    supply_price = []\n",
    "    demand = []\n",
    "    ED = 0\n",
    "    for node in node_data:\n",
    "        node_vec.append(node['node'])\n",
    "        supply_vec.append(node['supply'])\n",
    "        supply_price.append(node['price'])\n",
    "        demand.append(node['demand'])\n",
    "        ED += node['demand']\n",
    "    supply_df = pd.DataFrame(data = {'Agents': node_vec, 'Supply': supply_vec, 'Price': supply_price, 'Demand': demand})\n",
    "    supply_df = supply_df.sort_values(by='Price')\n",
    "    cum_supply = np.cumsum(supply_df['Supply'])\n",
    "    supply_df['Cumsum'] = cum_supply\n",
    "    for index, value in enumerate(supply_df.Cumsum):\n",
    "        if value >= ED:\n",
    "            break\n",
    "    return supply_df, ED, supply_df.iloc[index]['Price']"
   ]
  },
  {
   "cell_type": "code",
   "execution_count": 19,
   "id": "02335d5f-d5da-4397-a027-2ccba4ba4676",
   "metadata": {},
   "outputs": [
    {
     "data": {
      "text/html": [
       "<div>\n",
       "<style scoped>\n",
       "    .dataframe tbody tr th:only-of-type {\n",
       "        vertical-align: middle;\n",
       "    }\n",
       "\n",
       "    .dataframe tbody tr th {\n",
       "        vertical-align: top;\n",
       "    }\n",
       "\n",
       "    .dataframe thead th {\n",
       "        text-align: right;\n",
       "    }\n",
       "</style>\n",
       "<table border=\"1\" class=\"dataframe\">\n",
       "  <thead>\n",
       "    <tr style=\"text-align: right;\">\n",
       "      <th></th>\n",
       "      <th>Supply</th>\n",
       "      <th>Price</th>\n",
       "      <th>Demand</th>\n",
       "      <th>Cumsum</th>\n",
       "    </tr>\n",
       "    <tr>\n",
       "      <th>Agents</th>\n",
       "      <th></th>\n",
       "      <th></th>\n",
       "      <th></th>\n",
       "      <th></th>\n",
       "    </tr>\n",
       "  </thead>\n",
       "  <tbody>\n",
       "    <tr>\n",
       "      <th>1</th>\n",
       "      <td>0.000000</td>\n",
       "      <td>0.0</td>\n",
       "      <td>5.336468</td>\n",
       "      <td>0.000000</td>\n",
       "    </tr>\n",
       "    <tr>\n",
       "      <th>2</th>\n",
       "      <td>0.000000</td>\n",
       "      <td>0.0</td>\n",
       "      <td>5.451319</td>\n",
       "      <td>0.000000</td>\n",
       "    </tr>\n",
       "    <tr>\n",
       "      <th>3</th>\n",
       "      <td>34.459134</td>\n",
       "      <td>1.2</td>\n",
       "      <td>5.661051</td>\n",
       "      <td>34.459134</td>\n",
       "    </tr>\n",
       "    <tr>\n",
       "      <th>5</th>\n",
       "      <td>34.459134</td>\n",
       "      <td>1.5</td>\n",
       "      <td>5.431410</td>\n",
       "      <td>68.918268</td>\n",
       "    </tr>\n",
       "    <tr>\n",
       "      <th>0</th>\n",
       "      <td>34.459134</td>\n",
       "      <td>1.5</td>\n",
       "      <td>5.585267</td>\n",
       "      <td>103.377402</td>\n",
       "    </tr>\n",
       "    <tr>\n",
       "      <th>4</th>\n",
       "      <td>34.459134</td>\n",
       "      <td>1.5</td>\n",
       "      <td>5.993620</td>\n",
       "      <td>137.836536</td>\n",
       "    </tr>\n",
       "  </tbody>\n",
       "</table>\n",
       "</div>"
      ],
      "text/plain": [
       "           Supply  Price    Demand      Cumsum\n",
       "Agents                                        \n",
       "1        0.000000    0.0  5.336468    0.000000\n",
       "2        0.000000    0.0  5.451319    0.000000\n",
       "3       34.459134    1.2  5.661051   34.459134\n",
       "5       34.459134    1.5  5.431410   68.918268\n",
       "0       34.459134    1.5  5.585267  103.377402\n",
       "4       34.459134    1.5  5.993620  137.836536"
      ]
     },
     "execution_count": 19,
     "metadata": {},
     "output_type": "execute_result"
    }
   ],
   "source": [
    "supply_df, ED, price = single_sided_auction(node_data)\n",
    "supply_df.set_index('Agents', inplace=True)\n",
    "supply_df"
   ]
  },
  {
   "cell_type": "markdown",
   "id": "00c927cf-a333-4290-88cc-446891eacbe9",
   "metadata": {},
   "source": [
    "\n",
    "### Microgrid nodes"
   ]
  },
  {
   "cell_type": "code",
   "execution_count": 20,
   "id": "6d9c80be-53ef-4273-831e-31d1f75c7c6e",
   "metadata": {},
   "outputs": [],
   "source": [
    "net = pp.create_empty_network()\n",
    "min_pu = 0.95\n",
    "max_pu = 1.05\n",
    "\n",
    "bus0 = pp.create_bus(net, vn_kv=110, min_vm_pu=min_pu, max_vm_pu=max_pu)\n",
    "bus1 = pp.create_bus(net, vn_kv=110, min_vm_pu=min_pu, max_vm_pu=max_pu)\n",
    "bus2 = pp.create_bus(net, vn_kv=110, min_vm_pu=min_pu, max_vm_pu=max_pu)\n",
    "bus3 = pp.create_bus(net, vn_kv=110, min_vm_pu=min_pu, max_vm_pu=max_pu)\n",
    "bus4 = pp.create_bus(net, vn_kv=110, min_vm_pu=min_pu, max_vm_pu=max_pu)\n",
    "bus5 = pp.create_bus(net, vn_kv=110, min_vm_pu=min_pu, max_vm_pu=max_pu)\n",
    "\n",
    "line1 = pp.create_line(net, bus0, bus1, length_km=1, std_type='149-AL1/24-ST1A 110.0')\n",
    "line2 = pp.create_line(net, bus1, bus2, length_km=1, std_type='149-AL1/24-ST1A 110.0')\n",
    "line3 = pp.create_line(net, bus2, bus3, length_km=1, std_type='149-AL1/24-ST1A 110.0')\n",
    "line4 = pp.create_line(net, bus3, bus4, length_km=1, std_type='149-AL1/24-ST1A 110.0')\n",
    "line5 = pp.create_line(net, bus4, bus5, length_km=1, std_type='149-AL1/24-ST1A 110.0')\n",
    "line6 = pp.create_line(net, bus5, bus0, length_km=1, std_type='149-AL1/24-ST1A 110.0')\n",
    "\n",
    "pp.create_load(net, bus0, p_mw=supply_df['Demand'][0])\n",
    "pp.create_load(net, bus1, p_mw=supply_df['Demand'][1])\n",
    "pp.create_load(net, bus2, p_mw=supply_df['Demand'][2])\n",
    "pp.create_load(net, bus3, p_mw=supply_df['Demand'][3])\n",
    "pp.create_load(net, bus4, p_mw=supply_df['Demand'][4])\n",
    "pp.create_load(net, bus5, p_mw=supply_df['Demand'][5])\n",
    "\n",
    "gen0 = pp.create_gen(net, bus0, p_mw=30, min_p_mw=0, max_p_mw=32, controllable=True, slack=True)\n",
    "gen3 = pp.create_gen(net, bus3, p_mw=30, min_p_mw=0, max_p_mw=32, controllable=True, slack=True)\n",
    "gen4 = pp.create_gen(net, bus4, p_mw=30, min_p_mw=0, max_p_mw=32, controllable=True, slack=True)\n",
    "gen5 = pp.create_gen(net, bus5, p_mw=30, min_p_mw=0, max_p_mw=32, controllable=True, slack=True)"
   ]
  },
  {
   "cell_type": "code",
   "execution_count": 21,
   "id": "ee160f45-7e11-4401-809f-a8e365843a37",
   "metadata": {},
   "outputs": [
    {
     "data": {
      "text/html": [
       "<div>\n",
       "<style scoped>\n",
       "    .dataframe tbody tr th:only-of-type {\n",
       "        vertical-align: middle;\n",
       "    }\n",
       "\n",
       "    .dataframe tbody tr th {\n",
       "        vertical-align: top;\n",
       "    }\n",
       "\n",
       "    .dataframe thead th {\n",
       "        text-align: right;\n",
       "    }\n",
       "</style>\n",
       "<table border=\"1\" class=\"dataframe\">\n",
       "  <thead>\n",
       "    <tr style=\"text-align: right;\">\n",
       "      <th></th>\n",
       "      <th>p_mw</th>\n",
       "      <th>q_mvar</th>\n",
       "      <th>va_degree</th>\n",
       "      <th>vm_pu</th>\n",
       "    </tr>\n",
       "  </thead>\n",
       "  <tbody>\n",
       "    <tr>\n",
       "      <th>0</th>\n",
       "      <td>10.960482</td>\n",
       "      <td>-0.065536</td>\n",
       "      <td>0.0</td>\n",
       "      <td>1.0</td>\n",
       "    </tr>\n",
       "    <tr>\n",
       "      <th>1</th>\n",
       "      <td>11.074555</td>\n",
       "      <td>-0.065527</td>\n",
       "      <td>0.0</td>\n",
       "      <td>1.0</td>\n",
       "    </tr>\n",
       "    <tr>\n",
       "      <th>2</th>\n",
       "      <td>5.993620</td>\n",
       "      <td>-0.033262</td>\n",
       "      <td>0.0</td>\n",
       "      <td>1.0</td>\n",
       "    </tr>\n",
       "    <tr>\n",
       "      <th>3</th>\n",
       "      <td>5.431410</td>\n",
       "      <td>-0.033262</td>\n",
       "      <td>0.0</td>\n",
       "      <td>1.0</td>\n",
       "    </tr>\n",
       "  </tbody>\n",
       "</table>\n",
       "</div>"
      ],
      "text/plain": [
       "        p_mw    q_mvar  va_degree  vm_pu\n",
       "0  10.960482 -0.065536        0.0    1.0\n",
       "1  11.074555 -0.065527        0.0    1.0\n",
       "2   5.993620 -0.033262        0.0    1.0\n",
       "3   5.431410 -0.033262        0.0    1.0"
      ]
     },
     "execution_count": 21,
     "metadata": {},
     "output_type": "execute_result"
    }
   ],
   "source": [
    "pp.runpp(net)\n",
    "pf_result = net.res_gen\n",
    "pf_result"
   ]
  },
  {
   "cell_type": "code",
   "execution_count": 22,
   "id": "4d8b8d81-afe7-4f94-a5a5-4f74188387fa",
   "metadata": {},
   "outputs": [
    {
     "data": {
      "text/html": [
       "<div>\n",
       "<style scoped>\n",
       "    .dataframe tbody tr th:only-of-type {\n",
       "        vertical-align: middle;\n",
       "    }\n",
       "\n",
       "    .dataframe tbody tr th {\n",
       "        vertical-align: top;\n",
       "    }\n",
       "\n",
       "    .dataframe thead th {\n",
       "        text-align: right;\n",
       "    }\n",
       "</style>\n",
       "<table border=\"1\" class=\"dataframe\">\n",
       "  <thead>\n",
       "    <tr style=\"text-align: right;\">\n",
       "      <th></th>\n",
       "      <th>Supply</th>\n",
       "      <th>Price</th>\n",
       "      <th>Demand</th>\n",
       "      <th>Cumsum</th>\n",
       "    </tr>\n",
       "    <tr>\n",
       "      <th>Agents</th>\n",
       "      <th></th>\n",
       "      <th></th>\n",
       "      <th></th>\n",
       "      <th></th>\n",
       "    </tr>\n",
       "  </thead>\n",
       "  <tbody>\n",
       "    <tr>\n",
       "      <th>1</th>\n",
       "      <td>0.000000</td>\n",
       "      <td>0.0</td>\n",
       "      <td>5.336468</td>\n",
       "      <td>0.000000</td>\n",
       "    </tr>\n",
       "    <tr>\n",
       "      <th>2</th>\n",
       "      <td>0.000000</td>\n",
       "      <td>0.0</td>\n",
       "      <td>5.451319</td>\n",
       "      <td>0.000000</td>\n",
       "    </tr>\n",
       "    <tr>\n",
       "      <th>3</th>\n",
       "      <td>34.459134</td>\n",
       "      <td>1.2</td>\n",
       "      <td>5.661051</td>\n",
       "      <td>34.459134</td>\n",
       "    </tr>\n",
       "    <tr>\n",
       "      <th>5</th>\n",
       "      <td>34.459134</td>\n",
       "      <td>1.5</td>\n",
       "      <td>5.431410</td>\n",
       "      <td>68.918268</td>\n",
       "    </tr>\n",
       "    <tr>\n",
       "      <th>0</th>\n",
       "      <td>34.459134</td>\n",
       "      <td>1.5</td>\n",
       "      <td>5.585267</td>\n",
       "      <td>103.377402</td>\n",
       "    </tr>\n",
       "    <tr>\n",
       "      <th>4</th>\n",
       "      <td>34.459134</td>\n",
       "      <td>1.5</td>\n",
       "      <td>5.993620</td>\n",
       "      <td>137.836536</td>\n",
       "    </tr>\n",
       "  </tbody>\n",
       "</table>\n",
       "</div>"
      ],
      "text/plain": [
       "           Supply  Price    Demand      Cumsum\n",
       "Agents                                        \n",
       "1        0.000000    0.0  5.336468    0.000000\n",
       "2        0.000000    0.0  5.451319    0.000000\n",
       "3       34.459134    1.2  5.661051   34.459134\n",
       "5       34.459134    1.5  5.431410   68.918268\n",
       "0       34.459134    1.5  5.585267  103.377402\n",
       "4       34.459134    1.5  5.993620  137.836536"
      ]
     },
     "execution_count": 22,
     "metadata": {},
     "output_type": "execute_result"
    }
   ],
   "source": [
    "supply_df"
   ]
  },
  {
   "cell_type": "code",
   "execution_count": 23,
   "id": "a4243be8-9479-4988-883c-5699aa19ffe8",
   "metadata": {},
   "outputs": [],
   "source": [
    "gen_nodes = [0, 3, 4, 5]\n",
    "gen_values = pf_result['p_mw']\n",
    "gen_dict = dict(zip(gen_nodes, gen_values))"
   ]
  },
  {
   "cell_type": "code",
   "execution_count": 24,
   "id": "79acc155-f5da-4242-8559-91e64706bd75",
   "metadata": {},
   "outputs": [
    {
     "data": {
      "text/plain": [
       "{0: 10.96048243976144,\n",
       " 3: 11.074554951772061,\n",
       " 4: 5.993619898244042,\n",
       " 5: 5.431409908230471}"
      ]
     },
     "execution_count": 24,
     "metadata": {},
     "output_type": "execute_result"
    }
   ],
   "source": [
    "gen_dict"
   ]
  },
  {
   "cell_type": "code",
   "execution_count": 25,
   "id": "ba8ce6b7-3c77-4fe6-8251-6d532cb0054e",
   "metadata": {},
   "outputs": [],
   "source": [
    "total_demand = sum(supply_df['Demand'])\n",
    "total_supply = sum(gen_dict.values())\n",
    "losses = total_supply - total_demand"
   ]
  },
  {
   "cell_type": "code",
   "execution_count": 26,
   "id": "e7d0f692-128a-41c0-87e1-60e5e0213f7c",
   "metadata": {},
   "outputs": [
    {
     "data": {
      "text/plain": [
       "0.0009331644226264757"
      ]
     },
     "execution_count": 26,
     "metadata": {},
     "output_type": "execute_result"
    }
   ],
   "source": [
    "losses"
   ]
  },
  {
   "cell_type": "code",
   "execution_count": 27,
   "id": "3e223b5e-d159-4880-b454-c8e8dcfbb33c",
   "metadata": {},
   "outputs": [
    {
     "name": "stdout",
     "output_type": "stream",
     "text": [
      "0\n",
      "Supply 10.96048243976144 Demand 5.585266518288668\n",
      "1\n",
      "Supply 0 Demand 5.336467588910152\n",
      "2\n",
      "Supply 0 Demand 5.451319419347989\n",
      "3\n",
      "Supply 11.074554951772061 Demand 5.661050700564067\n",
      "4\n",
      "Supply 5.993619898244042 Demand 5.993619898244042\n",
      "5\n",
      "Supply 5.431409908230471 Demand 5.431409908230468\n"
     ]
    }
   ],
   "source": [
    "power_per_agent = []\n",
    "for agent in agents:\n",
    "    print(agent.get_node())\n",
    "    demand = agent.demand[0]\n",
    "    try:\n",
    "        supply = gen_dict[agent.get_node()]\n",
    "    except:\n",
    "        supply = agent.get_supply()[0]\n",
    "    print('Supply {} Demand {}'.format(supply, demand))\n",
    "    to_app = supply - demand\n",
    "    if abs(to_app) < 0.00001:\n",
    "        to_app = 0\n",
    "    power_per_agent.append(to_app)"
   ]
  },
  {
   "cell_type": "code",
   "execution_count": 28,
   "id": "694640c4-1a43-49eb-a339-a2c6d4318513",
   "metadata": {},
   "outputs": [
    {
     "data": {
      "text/plain": [
       "[5.375215921472773,\n",
       " -5.336467588910152,\n",
       " -5.451319419347989,\n",
       " 5.4135042512079945,\n",
       " 0,\n",
       " 0]"
      ]
     },
     "execution_count": 28,
     "metadata": {},
     "output_type": "execute_result"
    }
   ],
   "source": [
    "power_per_agent"
   ]
  },
  {
   "cell_type": "code",
   "execution_count": 29,
   "id": "b1a570fe-f944-43e5-8715-fc7b1bb9e3a1",
   "metadata": {},
   "outputs": [],
   "source": [
    "pay_for_power = []\n",
    "for power in power_per_agent:\n",
    "    pay_for_power.append(power*price)"
   ]
  },
  {
   "cell_type": "code",
   "execution_count": 30,
   "id": "abf56e2a-0c83-45e4-aa98-045867068027",
   "metadata": {},
   "outputs": [
    {
     "data": {
      "text/plain": [
       "[6.450259105767327,\n",
       " -6.403761106692182,\n",
       " -6.541583303217586,\n",
       " 6.496205101449593,\n",
       " 0.0,\n",
       " 0.0]"
      ]
     },
     "execution_count": 30,
     "metadata": {},
     "output_type": "execute_result"
    }
   ],
   "source": [
    "pay_for_power"
   ]
  },
  {
   "cell_type": "code",
   "execution_count": 31,
   "id": "4fca2b11-a3ff-4ad3-b9ea-9ea4f287e540",
   "metadata": {},
   "outputs": [],
   "source": [
    "to_earn = {}\n",
    "to_pay = {}\n",
    "for index, payment in enumerate(power_per_agent):\n",
    "    if payment < 0:\n",
    "        to_pay[index] = abs(payment)\n",
    "    else:\n",
    "        to_earn[index] = payment"
   ]
  },
  {
   "cell_type": "code",
   "execution_count": 32,
   "id": "a7fa609b-2493-407d-9352-56313d26d2b1",
   "metadata": {},
   "outputs": [
    {
     "data": {
      "text/plain": [
       "{0: 5.375215921472773, 3: 5.4135042512079945, 4: 0, 5: 0}"
      ]
     },
     "execution_count": 32,
     "metadata": {},
     "output_type": "execute_result"
    }
   ],
   "source": [
    "to_earn"
   ]
  },
  {
   "cell_type": "code",
   "execution_count": 33,
   "id": "8bcea6e5-9732-4793-b697-129a1a1b8075",
   "metadata": {},
   "outputs": [
    {
     "data": {
      "text/plain": [
       "{1: 5.336467588910152, 2: 5.451319419347989}"
      ]
     },
     "execution_count": 33,
     "metadata": {},
     "output_type": "execute_result"
    }
   ],
   "source": [
    "to_pay"
   ]
  },
  {
   "cell_type": "code",
   "execution_count": 34,
   "id": "2d68710c-9ab2-4ec4-813c-fb4f65cc4519",
   "metadata": {},
   "outputs": [],
   "source": [
    "payment_info = {}\n",
    "for payer, balance in to_pay.items():\n",
    "    payment_info[payer] = {'node': [], 'total': []}\n",
    "    for earner, gain in to_earn.items():\n",
    "        if gain > 0:\n",
    "            if balance >= gain:\n",
    "                payment_info[payer]['node'].append(earner)\n",
    "                payment_info[payer]['total'].append(gain)\n",
    "                to_pay[payer] = to_pay[payer] - gain\n",
    "                to_earn[earner] = to_earn[earner] - gain\n",
    "            elif balance < gain:\n",
    "                payment_info[payer]['node'].append(earner)\n",
    "                payment_info[payer]['total'].append(balance)\n",
    "                to_pay[payer] = to_pay[payer] - balance\n",
    "                to_earn[earner] = to_earn[earner] - balance\n",
    "                break"
   ]
  },
  {
   "cell_type": "code",
   "execution_count": 35,
   "id": "13309e59-d824-4d6f-b796-ce31c6cb7ead",
   "metadata": {},
   "outputs": [
    {
     "data": {
      "text/plain": [
       "{1: {'node': [0], 'total': [5.336467588910152]},\n",
       " 2: {'node': [0, 3], 'total': [0.038748332562621, 5.4135042512079945]}}"
      ]
     },
     "execution_count": 35,
     "metadata": {},
     "output_type": "execute_result"
    }
   ],
   "source": [
    "payment_info"
   ]
  },
  {
   "cell_type": "code",
   "execution_count": 36,
   "id": "48770f4a-32c7-4460-9b2a-e5a06c9cca0f",
   "metadata": {},
   "outputs": [],
   "source": [
    "gather_data = {}\n",
    "for index, agent in enumerate(agents):\n",
    "    info_dict = {}\n",
    "    info_dict['price'] = price\n",
    "    try:\n",
    "        info_dict['node'] = payment_info[index]['node']\n",
    "        info_dict['power'] = payment_info[index]['total']\n",
    "    except:\n",
    "        pass\n",
    "    gather_data[index] = info_dict"
   ]
  },
  {
   "cell_type": "code",
   "execution_count": 37,
   "id": "7dbf7098-dbfe-4d3f-92e4-04fe2eecb862",
   "metadata": {},
   "outputs": [
    {
     "data": {
      "text/plain": [
       "{0: {'price': 1.2},\n",
       " 1: {'price': 1.2, 'node': [0], 'power': [5.336467588910152]},\n",
       " 2: {'price': 1.2,\n",
       "  'node': [0, 3],\n",
       "  'power': [0.038748332562621, 5.4135042512079945]},\n",
       " 3: {'price': 1.2},\n",
       " 4: {'price': 1.2},\n",
       " 5: {'price': 1.2}}"
      ]
     },
     "execution_count": 37,
     "metadata": {},
     "output_type": "execute_result"
    }
   ],
   "source": [
    "gather_data"
   ]
  },
  {
   "cell_type": "code",
   "execution_count": 38,
   "id": "347aa893-f698-40cd-a8ac-226e978b2dc7",
   "metadata": {},
   "outputs": [
    {
     "name": "stdout",
     "output_type": "stream",
     "text": [
      "MHINXEFKQXASMVSYSMBCVDXFGTIOKXMJTYXTFFEGQZDZWXVALDCUJGIZLH9RXRPSUORMW9CZP99OWRTZW\n",
      "IQJ9LOOD9DPWOEFGRBYBEFDQDPVGFLKUUJGVVUEVUPWULXQWOJRAARXZXLQOITEKIHSRHWOULAPGEQQ99\n",
      "NUGF9CWMNGZPTYQNAK9NPEDTOCTQUYVZMOPAMREEKLRKM9WWSQTEAEAIFI9IVNBSUYGFZHSCWXZXJAESX\n",
      "JCDVLQSRZNJYQQ99YR9VEMJNMYBIVWTPJTVUB9PHQZHGLQIMCZYPNMFXUWBACHNOLS9TEITZSZRP9TVPD\n",
      "JSQQFRMNFX9VCIYMWUFUGZNKBWVMROMTZXPSRKIWMWRBQIHAVRKHRZMO9TEEWWQEENAQYQQDLTFSGGJKC\n",
      "XVJWOGXPS9RMVO9HXDKLIHMHAY9WTVBXABMGDIPDRXACWFNTJLNIMBWHGTUPEOHEHCGGRXNZ9TDCK9CHC\n"
     ]
    }
   ],
   "source": [
    "step = 0\n",
    "for index, agent in enumerate(agents):\n",
    "    address = addresses_dict[index]['price_address'][step]\n",
    "    data = gather_data[index]\n",
    "    tx = ProposedTransaction(\n",
    "        address=Address(address),\n",
    "        message=TryteString.from_unicode(json.dumps(data)),\n",
    "        tag=Tag('PRICE'),\n",
    "        value=0)\n",
    "        \n",
    "    tx = api.prepare_transfer(transfers=[tx])\n",
    "\n",
    "    result = api.send_trytes(tx['trytes'], depth=3, min_weight_magnitude=9)\n",
    "    \n",
    "    print(address)"
   ]
  },
  {
   "cell_type": "code",
   "execution_count": 39,
   "id": "f6f34490-cbb5-4b9a-acae-641f503f0293",
   "metadata": {},
   "outputs": [
    {
     "name": "stdout",
     "output_type": "stream",
     "text": [
      "[{'price': 1.2}]\n",
      "[{'price': 1.2, 'node': [0], 'power': [5.336467588910152]}]\n",
      "[{'price': 1.2, 'node': [0, 3], 'power': [0.038748332562621, 5.4135042512079945]}]\n",
      "[{'price': 1.2}]\n",
      "[{'price': 1.2}]\n",
      "[{'price': 1.2}]\n"
     ]
    }
   ],
   "source": [
    "step = 0\n",
    "for agent in agents:\n",
    "    print(agent.check_address(step, 'price'))"
   ]
  },
  {
   "cell_type": "code",
   "execution_count": 40,
   "id": "96e0e5d9-9673-4cb3-98e4-1a919540ea6b",
   "metadata": {},
   "outputs": [
    {
     "name": "stdout",
     "output_type": "stream",
     "text": [
      "[{'price': 1.2, 'node': [0], 'power': [5.336467588910152]}]\n",
      "[{'price': 1.2, 'node': [0, 3], 'power': [0.038748332562621, 5.4135042512079945]}]\n"
     ]
    }
   ],
   "source": [
    "step = 0\n",
    "agents[1].pay_power(step)\n",
    "agents[2].pay_power(step)"
   ]
  },
  {
   "cell_type": "code",
   "execution_count": 41,
   "id": "79bbbf18-0e97-4da1-af88-c6cc57ceef68",
   "metadata": {},
   "outputs": [
    {
     "name": "stdout",
     "output_type": "stream",
     "text": [
      "[{'payment': 6.403761106692182}, {'payment': 0.0464979990751452}]\n",
      "[{'payment': 6.496205101449593}]\n"
     ]
    }
   ],
   "source": [
    "step = 0\n",
    "print(agents[0].check_address(step, 'money'))\n",
    "print(agents[3].check_address(step, 'money'))"
   ]
  },
  {
   "cell_type": "code",
   "execution_count": null,
   "id": "54d35a45-f9a6-4abf-8e23-d600c4e199c9",
   "metadata": {},
   "outputs": [],
   "source": [
    "def payment_setup():\n",
    "    power_per_agent = []\n",
    "    for agent in agents:\n",
    "        agent.get_node()\n",
    "        demand = agent.demand[0]\n",
    "        try:\n",
    "            supply = gen_dict[agent.get_node()]\n",
    "        except:\n",
    "            supply = agent.get_supply()[0]\n",
    "        to_app = supply - demand\n",
    "        if abs(to_app) < 0.00001:\n",
    "            to_app = 0\n",
    "        power_per_agent.append(to_app)\n",
    "    to_earn = {}\n",
    "    to_pay = {}\n",
    "    for index, payment in enumerate(power_per_agent):\n",
    "        if payment < 0:\n",
    "            to_pay[index] = abs(payment)\n",
    "        else:\n",
    "            to_earn[index] = payment\n",
    "    \n",
    "    payment_info = {}\n",
    "    for payer, balance in to_pay.items():\n",
    "        payment_info[payer] = {'node': [], 'total': []}\n",
    "        for earner, gain in to_earn.items():\n",
    "            if gain > 0:\n",
    "                if balance >= gain:\n",
    "                    payment_info[payer]['node'].append(earner)\n",
    "                    payment_info[payer]['total'].append(gain)\n",
    "                    to_pay[payer] = to_pay[payer] - gain\n",
    "                    to_earn[earner] = to_earn[earner] - gain\n",
    "                elif balance < gain:\n",
    "                    payment_info[payer]['node'].append(earner)\n",
    "                    payment_info[payer]['total'].append(balance)\n",
    "                    to_pay[payer] = to_pay[payer] - balance\n",
    "                    to_earn[earner] = to_earn[earner] - balance\n",
    "                    break\n",
    "    gather_data = {}\n",
    "    for index, agent in enumerate(agents):\n",
    "        info_dict = {}\n",
    "        info_dict['price'] = price\n",
    "        try:\n",
    "            info_dict['node'] = payment_info[index]['node']\n",
    "            info_dict['power'] = payment_info[index]['total']\n",
    "        except:\n",
    "            pass\n",
    "        gather_data[index] = info_dict"
   ]
  }
 ],
 "metadata": {
  "kernelspec": {
   "display_name": "microgrid_venv",
   "language": "python",
   "name": "microgrid_venv"
  },
  "language_info": {
   "codemirror_mode": {
    "name": "ipython",
    "version": 3
   },
   "file_extension": ".py",
   "mimetype": "text/x-python",
   "name": "python",
   "nbconvert_exporter": "python",
   "pygments_lexer": "ipython3",
   "version": "3.6.9"
  }
 },
 "nbformat": 4,
 "nbformat_minor": 5
}
