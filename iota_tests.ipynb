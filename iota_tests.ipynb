{
 "cells": [
  {
   "cell_type": "code",
   "execution_count": 9,
   "id": "0ae9b8d6-f460-4c5f-86b6-760365fd7842",
   "metadata": {},
   "outputs": [],
   "source": [
    "from iota import ProposedTransaction, Address, Tag, TryteString, Iota, Transaction\n",
    "import json\n",
    "import pprint"
   ]
  },
  {
   "cell_type": "code",
   "execution_count": 10,
   "id": "1c5ab8c8-ee86-4e2a-88e0-32d0dfc22a15",
   "metadata": {},
   "outputs": [
    {
     "name": "stdout",
     "output_type": "stream",
     "text": [
      "TTPYANUN9BDZSQAKEWHDKGRMPUOZHK9VAMDS9QBJSQ9EXBUKIGFGVUCMEWMFNNENEZMFRTTULRLENJRUC\n"
     ]
    }
   ],
   "source": [
    "from iota.crypto.types import Seed\n",
    "\n",
    "my_seed = Seed.random()\n",
    "\n",
    "print(my_seed)"
   ]
  },
  {
   "cell_type": "code",
   "execution_count": 11,
   "id": "47bc55f7-d101-4e19-b1d8-8939aa2aab57",
   "metadata": {},
   "outputs": [],
   "source": [
    "from iota import Iota\n",
    "api = Iota('https://nodes.devnet.iota.org:443')"
   ]
  },
  {
   "cell_type": "code",
   "execution_count": 12,
   "id": "558663e4-6b57-4a78-8e6e-d99eddb0757d",
   "metadata": {},
   "outputs": [
    {
     "name": "stdout",
     "output_type": "stream",
     "text": [
      "Transaction sent to the tangle!\n",
      "https://devnet.thetangle.org/address/FEEDTHESHEEP999999999999999999999999999999999999999999999999999999999999999999999\n"
     ]
    }
   ],
   "source": [
    "address = 'FEEDTHESHEEP999999999999999999999999999999999999999999999999999999999999999999999'\n",
    "\n",
    "data = [{'temperature': '20.1', 'humidity': '72'}] * 5\n",
    "\n",
    "tx = ProposedTransaction(\n",
    "    address=Address(address),\n",
    "    message=TryteString.from_unicode(json.dumps(data)),\n",
    "    tag=Tag('TEMPERATURE'),\n",
    "    value=0\n",
    ")\n",
    "\n",
    "tx = api.prepare_transfer(transfers=[tx])\n",
    "\n",
    "result = api.send_trytes(tx['trytes'], depth=3, min_weight_magnitude=9)\n",
    "\n",
    "print('Transaction sent to the tangle!')\n",
    "print('https://devnet.thetangle.org/address/%s' % address)"
   ]
  },
  {
   "cell_type": "code",
   "execution_count": null,
   "id": "5eb9e577-469d-4b40-a37f-b545847b22a6",
   "metadata": {},
   "outputs": [],
   "source": [
    "address = 'TEMPERAHKXQCVPPVVIPIJGLUTLTKFHYGMBBLOXJFYGSARLOTYFFSDZNYCOBOCNPGRMJWZCQBNOROUCE9G'\n",
    "\n",
    "transactions = api.find_transactions(addresses=[address,])\n",
    "\n",
    "hashes = []\n",
    "for txhash in transactions['hashes']:\n",
    "    hashes.append(txhash)\n",
    "\n",
    "trytes = api.get_trytes(hashes)['trytes']\n",
    "\n",
    "parts = []\n",
    "\n",
    "for trytestring in trytes:\n",
    "    tx = Transaction.from_tryte_string(trytestring)\n",
    "    parts.append((tx.current_index, tx.signature_message_fragment))\n",
    "\n",
    "parts.sort(key=lambda x: x[0])\n",
    "\n",
    "full_message = TryteString.from_unicode('')\n",
    "\n",
    "for index, part in parts:\n",
    "    full_message += part\n",
    "\n",
    "pprint.pprint(json.loads(full_message.decode()))"
   ]
  },
  {
   "cell_type": "code",
   "execution_count": null,
   "id": "135bd8fd-ffde-47b3-9644-272c3f64725f",
   "metadata": {},
   "outputs": [],
   "source": [
    "gna_result = api.get_new_addresses(count=5)\n",
    "addresses = gna_result['addresses']"
   ]
  },
  {
   "cell_type": "code",
   "execution_count": null,
   "id": "97276934-1f55-4b02-86f3-86b564fc1ab3",
   "metadata": {},
   "outputs": [],
   "source": [
    "sender_address = addresses[0]\n",
    "reciever_addr"
   ]
  },
  {
   "cell_type": "code",
   "execution_count": null,
   "id": "8e19f3b2-05fd-4ff2-b757-8d2e86f35cf8",
   "metadata": {},
   "outputs": [],
   "source": []
  }
 ],
 "metadata": {
  "kernelspec": {
   "display_name": "microgrid_venv",
   "language": "python",
   "name": "microgrid_venv"
  },
  "language_info": {
   "codemirror_mode": {
    "name": "ipython",
    "version": 3
   },
   "file_extension": ".py",
   "mimetype": "text/x-python",
   "name": "python",
   "nbconvert_exporter": "python",
   "pygments_lexer": "ipython3",
   "version": "3.6.9"
  }
 },
 "nbformat": 4,
 "nbformat_minor": 5
}
