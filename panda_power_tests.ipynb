{
 "cells": [
  {
   "cell_type": "markdown",
   "id": "43669567-8151-4b5d-9605-5e647904d7c1",
   "metadata": {
    "tags": []
   },
   "source": [
    "# Basic PandaPower test"
   ]
  },
  {
   "cell_type": "code",
   "execution_count": 1,
   "id": "08576ef1",
   "metadata": {},
   "outputs": [],
   "source": [
    "import pandapower as pp"
   ]
  },
  {
   "cell_type": "code",
   "execution_count": 2,
   "id": "6461ccdb",
   "metadata": {},
   "outputs": [],
   "source": [
    "net = pp.create_empty_network()\n",
    "min_pu = 0.95\n",
    "max_pu = 1.05"
   ]
  },
  {
   "cell_type": "code",
   "execution_count": 3,
   "id": "fdf7cd3c",
   "metadata": {},
   "outputs": [],
   "source": [
    "bus1 = pp.create_bus(net, vn_kv=110, min_vm_pu=min_pu, max_vm_pu=max_pu)\n",
    "bus2 = pp.create_bus(net, vn_kv=110, min_vm_pu=min_pu, max_vm_pu=max_pu)\n",
    "bus3 = pp.create_bus(net, vn_kv=110, min_vm_pu=min_pu, max_vm_pu=max_pu)"
   ]
  },
  {
   "cell_type": "code",
   "execution_count": 4,
   "id": "fe6a1f94",
   "metadata": {},
   "outputs": [],
   "source": [
    "line1 = pp.create_line(net, bus1, bus2, length_km=1, std_type='149-AL1/24-ST1A 110.0')\n",
    "line2 = pp.create_line(net, bus2, bus3, length_km=1, std_type='149-AL1/24-ST1A 110.0')\n",
    "line3 = pp.create_line(net, bus3, bus1, length_km=1, std_type='149-AL1/24-ST1A 110.0')"
   ]
  },
  {
   "cell_type": "code",
   "execution_count": 5,
   "id": "d858958d",
   "metadata": {},
   "outputs": [
    {
     "data": {
      "text/plain": [
       "0"
      ]
     },
     "execution_count": 5,
     "metadata": {},
     "output_type": "execute_result"
    }
   ],
   "source": [
    "pp.create_load(net, bus3, p_mw=300)"
   ]
  },
  {
   "cell_type": "code",
   "execution_count": 6,
   "id": "ac976ee3",
   "metadata": {},
   "outputs": [],
   "source": [
    "gen1 = pp.create_gen(net, bus1, p_mw=200, min_p_mw=0, max_p_mw=300, controllable=True, slack=True)\n",
    "gen2 = pp.create_gen(net, bus2, p_mw=0, min_p_mw=0, max_p_mw=300, controllable=True)"
   ]
  },
  {
   "cell_type": "code",
   "execution_count": 7,
   "id": "e1814eb9",
   "metadata": {},
   "outputs": [],
   "source": [
    "pp.runpp(net)"
   ]
  },
  {
   "cell_type": "code",
   "execution_count": 8,
   "id": "20d70e39",
   "metadata": {},
   "outputs": [
    {
     "data": {
      "text/html": [
       "<div>\n",
       "<style scoped>\n",
       "    .dataframe tbody tr th:only-of-type {\n",
       "        vertical-align: middle;\n",
       "    }\n",
       "\n",
       "    .dataframe tbody tr th {\n",
       "        vertical-align: top;\n",
       "    }\n",
       "\n",
       "    .dataframe thead th {\n",
       "        text-align: right;\n",
       "    }\n",
       "</style>\n",
       "<table border=\"1\" class=\"dataframe\">\n",
       "  <thead>\n",
       "    <tr style=\"text-align: right;\">\n",
       "      <th></th>\n",
       "      <th>vm_pu</th>\n",
       "      <th>va_degree</th>\n",
       "      <th>p_mw</th>\n",
       "      <th>q_mvar</th>\n",
       "    </tr>\n",
       "  </thead>\n",
       "  <tbody>\n",
       "    <tr>\n",
       "      <th>0</th>\n",
       "      <td>1.000000</td>\n",
       "      <td>0.000000</td>\n",
       "      <td>-301.021356</td>\n",
       "      <td>69.875682</td>\n",
       "    </tr>\n",
       "    <tr>\n",
       "      <th>1</th>\n",
       "      <td>1.000000</td>\n",
       "      <td>-0.238422</td>\n",
       "      <td>0.000000</td>\n",
       "      <td>-71.934594</td>\n",
       "    </tr>\n",
       "    <tr>\n",
       "      <th>2</th>\n",
       "      <td>0.997575</td>\n",
       "      <td>-0.411150</td>\n",
       "      <td>300.000000</td>\n",
       "      <td>0.000000</td>\n",
       "    </tr>\n",
       "  </tbody>\n",
       "</table>\n",
       "</div>"
      ],
      "text/plain": [
       "      vm_pu  va_degree        p_mw     q_mvar\n",
       "0  1.000000   0.000000 -301.021356  69.875682\n",
       "1  1.000000  -0.238422    0.000000 -71.934594\n",
       "2  0.997575  -0.411150  300.000000   0.000000"
      ]
     },
     "execution_count": 8,
     "metadata": {},
     "output_type": "execute_result"
    }
   ],
   "source": [
    "net.res_bus"
   ]
  },
  {
   "cell_type": "markdown",
   "id": "dc289072-6961-451d-a594-2685601aca86",
   "metadata": {},
   "source": [
    "# Custom network experiments"
   ]
  },
  {
   "cell_type": "code",
   "execution_count": 9,
   "id": "1868faa1-47d6-4721-a4ff-97ed006a0898",
   "metadata": {},
   "outputs": [],
   "source": [
    "import pandapower as pp"
   ]
  },
  {
   "cell_type": "code",
   "execution_count": 10,
   "id": "c52f0db0-6488-4478-9201-d03f6c48f52b",
   "metadata": {},
   "outputs": [],
   "source": [
    "net = pp.create_empty_network()\n",
    "min_pu = 0.95\n",
    "max_pu = 1.05"
   ]
  },
  {
   "cell_type": "code",
   "execution_count": 11,
   "id": "0dd513f3-90ae-49e7-8aec-11ee307e1b64",
   "metadata": {},
   "outputs": [],
   "source": [
    "bus1 = pp.create_bus(net, vn_kv=110, min_vm_pu=min_pu, max_vm_pu=max_pu)\n",
    "bus2 = pp.create_bus(net, vn_kv=110, min_vm_pu=min_pu, max_vm_pu=max_pu)\n",
    "bus3 = pp.create_bus(net, vn_kv=110, min_vm_pu=min_pu, max_vm_pu=max_pu)\n",
    "bus4 = pp.create_bus(net, vn_kv=110, min_vm_pu=min_pu, max_vm_pu=max_pu)\n",
    "bus5 = pp.create_bus(net, vn_kv=110, min_vm_pu=min_pu, max_vm_pu=max_pu)\n",
    "bus6 = pp.create_bus(net, vn_kv=110, min_vm_pu=min_pu, max_vm_pu=max_pu)"
   ]
  },
  {
   "cell_type": "code",
   "execution_count": 12,
   "id": "a820eaa9-c180-447b-8a28-fcd029dc7ecc",
   "metadata": {},
   "outputs": [],
   "source": [
    "line1 = pp.create_line(net, bus1, bus2, length_km=1, std_type='149-AL1/24-ST1A 110.0')\n",
    "line2 = pp.create_line(net, bus2, bus3, length_km=1, std_type='149-AL1/24-ST1A 110.0')\n",
    "line3 = pp.create_line(net, bus3, bus4, length_km=1, std_type='149-AL1/24-ST1A 110.0')\n",
    "line4 = pp.create_line(net, bus4, bus5, length_km=1, std_type='149-AL1/24-ST1A 110.0')\n",
    "line5 = pp.create_line(net, bus5, bus6, length_km=1, std_type='149-AL1/24-ST1A 110.0')\n",
    "line6 = pp.create_line(net, bus6, bus1, length_km=1, std_type='149-AL1/24-ST1A 110.0')"
   ]
  },
  {
   "cell_type": "code",
   "execution_count": 13,
   "id": "b2a45802-d704-40c8-be6c-52c3d24a00e7",
   "metadata": {},
   "outputs": [
    {
     "data": {
      "text/plain": [
       "5"
      ]
     },
     "execution_count": 13,
     "metadata": {},
     "output_type": "execute_result"
    }
   ],
   "source": [
    "pp.create_load(net, bus1, p_mw=10)\n",
    "pp.create_load(net, bus2, p_mw=10)\n",
    "pp.create_load(net, bus3, p_mw=10)\n",
    "pp.create_load(net, bus4, p_mw=10)\n",
    "pp.create_load(net, bus5, p_mw=10)\n",
    "pp.create_load(net, bus6, p_mw=10)"
   ]
  },
  {
   "cell_type": "code",
   "execution_count": 14,
   "id": "3aa300d6-f95f-4b5f-868e-b0a5bf36e16d",
   "metadata": {},
   "outputs": [],
   "source": [
    "gen1 = pp.create_gen(net, bus1, p_mw=20, min_p_mw=0, max_p_mw=20, controllable=True, slack=True)\n",
    "gen4 = pp.create_gen(net, bus4, p_mw=20, min_p_mw=0, max_p_mw=20, controllable=True)\n",
    "gen5 = pp.create_gen(net, bus5, p_mw=20, min_p_mw=0, max_p_mw=20, controllable=True)\n",
    "gen6 = pp.create_gen(net, bus6, p_mw=20, min_p_mw=0, max_p_mw=20, controllable=True)"
   ]
  },
  {
   "cell_type": "code",
   "execution_count": 15,
   "id": "b6a2ae13-c3df-4895-a524-e4d4c41ec9e3",
   "metadata": {},
   "outputs": [],
   "source": [
    "pp.runpp(net)"
   ]
  },
  {
   "cell_type": "code",
   "execution_count": 16,
   "id": "887b77c0-0d78-4790-9231-c48f30caf92a",
   "metadata": {},
   "outputs": [
    {
     "data": {
      "text/html": [
       "<div>\n",
       "<style scoped>\n",
       "    .dataframe tbody tr th:only-of-type {\n",
       "        vertical-align: middle;\n",
       "    }\n",
       "\n",
       "    .dataframe tbody tr th {\n",
       "        vertical-align: top;\n",
       "    }\n",
       "\n",
       "    .dataframe thead th {\n",
       "        text-align: right;\n",
       "    }\n",
       "</style>\n",
       "<table border=\"1\" class=\"dataframe\">\n",
       "  <thead>\n",
       "    <tr style=\"text-align: right;\">\n",
       "      <th></th>\n",
       "      <th>p_mw</th>\n",
       "      <th>q_mvar</th>\n",
       "      <th>va_degree</th>\n",
       "      <th>vm_pu</th>\n",
       "    </tr>\n",
       "  </thead>\n",
       "  <tbody>\n",
       "    <tr>\n",
       "      <th>0</th>\n",
       "      <td>0.010072</td>\n",
       "      <td>9.401126</td>\n",
       "      <td>0.000000</td>\n",
       "      <td>1.0</td>\n",
       "    </tr>\n",
       "    <tr>\n",
       "      <th>1</th>\n",
       "      <td>20.000000</td>\n",
       "      <td>-0.057060</td>\n",
       "      <td>0.035628</td>\n",
       "      <td>1.0</td>\n",
       "    </tr>\n",
       "    <tr>\n",
       "      <th>2</th>\n",
       "      <td>20.000000</td>\n",
       "      <td>-4.763700</td>\n",
       "      <td>0.047510</td>\n",
       "      <td>1.0</td>\n",
       "    </tr>\n",
       "    <tr>\n",
       "      <th>3</th>\n",
       "      <td>20.000000</td>\n",
       "      <td>-4.758628</td>\n",
       "      <td>0.035633</td>\n",
       "      <td>1.0</td>\n",
       "    </tr>\n",
       "  </tbody>\n",
       "</table>\n",
       "</div>"
      ],
      "text/plain": [
       "        p_mw    q_mvar  va_degree  vm_pu\n",
       "0   0.010072  9.401126   0.000000    1.0\n",
       "1  20.000000 -0.057060   0.035628    1.0\n",
       "2  20.000000 -4.763700   0.047510    1.0\n",
       "3  20.000000 -4.758628   0.035633    1.0"
      ]
     },
     "execution_count": 16,
     "metadata": {},
     "output_type": "execute_result"
    }
   ],
   "source": [
    "net.res_gen"
   ]
  },
  {
   "cell_type": "code",
   "execution_count": null,
   "id": "fe6dec15-2fcd-488a-9259-f19166ad5e5d",
   "metadata": {},
   "outputs": [],
   "source": []
  }
 ],
 "metadata": {
  "kernelspec": {
   "display_name": "microgrid_venv",
   "language": "python",
   "name": "microgrid_venv"
  },
  "language_info": {
   "codemirror_mode": {
    "name": "ipython",
    "version": 3
   },
   "file_extension": ".py",
   "mimetype": "text/x-python",
   "name": "python",
   "nbconvert_exporter": "python",
   "pygments_lexer": "ipython3",
   "version": "3.6.9"
  }
 },
 "nbformat": 4,
 "nbformat_minor": 5
}
